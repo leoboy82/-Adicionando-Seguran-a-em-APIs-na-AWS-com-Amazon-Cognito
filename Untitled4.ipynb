{
  "nbformat": 4,
  "nbformat_minor": 0,
  "metadata": {
    "colab": {
      "provenance": [],
      "authorship_tag": "ABX9TyNxJg8o5us7uAobgaP60gws",
      "include_colab_link": true
    },
    "kernelspec": {
      "name": "python3",
      "display_name": "Python 3"
    },
    "language_info": {
      "name": "python"
    }
  },
  "cells": [
    {
      "cell_type": "markdown",
      "metadata": {
        "id": "view-in-github",
        "colab_type": "text"
      },
      "source": [
        "<a href=\"https://colab.research.google.com/github/leoboy82/-Adicionando-Seguran-a-em-APIs-na-AWS-com-Amazon-Cognito/blob/main/Untitled4.ipynb\" target=\"_parent\"><img src=\"https://colab.research.google.com/assets/colab-badge.svg\" alt=\"Open In Colab\"/></a>"
      ]
    },
    {
      "cell_type": "code",
      "execution_count": 1,
      "metadata": {
        "colab": {
          "base_uri": "https://localhost:8080/"
        },
        "id": "XPwFXlWJT437",
        "outputId": "1f88dc0e-70c1-4b7b-adbd-69565bf3eca4"
      },
      "outputs": [
        {
          "output_type": "stream",
          "name": "stdout",
          "text": [
            "Digite um número para somar (digite 0 para sair): 5\n",
            "Total: 5\n",
            "Digite um número para somar (digite 0 para sair): 9\n",
            "Total: 14\n",
            "Digite um número para somar (digite 0 para sair): 0\n",
            "Total: 14\n"
          ]
        }
      ],
      "source": [
        "# Inicialização das variáveis\n",
        "contador = 0\n",
        "\n",
        "# Repetição até que o número digitado seja igual a 0\n",
        "while True:\n",
        "    # Solicita ao usuário para digitar um número\n",
        "    numero = int(input(\"Digite um número para somar (digite 0 para sair): \"))\n",
        "\n",
        "    # Adiciona o número digitado ao contador\n",
        "    contador += numero\n",
        "\n",
        "    # Exibe o total atual\n",
        "    print(\"Total:\", contador)\n",
        "\n",
        "    # Condição de saída do loop\n",
        "    if numero == 0:\n",
        "        break\n"
      ]
    },
    {
      "cell_type": "code",
      "source": [
        "# Inicialização das variáveis\n",
        "numero = int(input(\"Digite o número que deseja verificar a tabuada de soma: \"))\n",
        "\n",
        "# Loop para calcular a tabuada de soma\n",
        "for contador in range(11):\n",
        "    resultado = numero + contador\n",
        "    print(numero, \" + \", contador, \" = \", resultado)\n"
      ],
      "metadata": {
        "colab": {
          "base_uri": "https://localhost:8080/"
        },
        "id": "Gvi6jxfEWeU7",
        "outputId": "7deeaa7b-c42d-4d31-baae-7051d2f11128"
      },
      "execution_count": 3,
      "outputs": [
        {
          "output_type": "stream",
          "name": "stdout",
          "text": [
            "Digite o número que deseja verificar a tabuada de soma: 0\n",
            "0  +  0  =  0\n",
            "0  +  1  =  1\n",
            "0  +  2  =  2\n",
            "0  +  3  =  3\n",
            "0  +  4  =  4\n",
            "0  +  5  =  5\n",
            "0  +  6  =  6\n",
            "0  +  7  =  7\n",
            "0  +  8  =  8\n",
            "0  +  9  =  9\n",
            "0  +  10  =  10\n"
          ]
        }
      ]
    }
  ]
}